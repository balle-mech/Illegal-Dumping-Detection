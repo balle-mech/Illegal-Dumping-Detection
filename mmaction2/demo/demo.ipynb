{
 "cells": [
  {
   "cell_type": "code",
   "execution_count": 14,
   "metadata": {},
   "outputs": [
    {
     "name": "stdout",
     "output_type": "stream",
     "text": [
      "The file '../checkpoints/tsn_r50_8xb32-1x1x8-100e_kinetics400-rgb_20220818-2692d16c.pth' does not exist.\n"
     ]
    }
   ],
   "source": [
    "import os\n",
    "\n",
    "file_path = '../checkpoints/tsn_r50_8xb32-1x1x8-100e_kinetics400-rgb_20220818-2692d16c.pth'\n",
    "if os.path.exists(file_path):\n",
    "    print(f\"The file '{file_path}' exists.\")\n",
    "else:\n",
    "    print(f\"The file '{file_path}' does not exist.\")\n"
   ]
  },
  {
   "cell_type": "code",
   "execution_count": 15,
   "metadata": {
    "collapsed": true,
    "pycharm": {
     "name": "#%%\n"
    }
   },
   "outputs": [],
   "source": [
    "from operator import itemgetter\n",
    "from mmaction.apis import init_recognizer, inference_recognizer\n"
   ]
  },
  {
   "cell_type": "code",
   "execution_count": 16,
   "metadata": {
    "collapsed": false,
    "pycharm": {
     "name": "#%%\n"
    }
   },
   "outputs": [],
   "source": [
    "config_file = '../demo/demo_configs/tsn_r50_1x1x8_video_infer.py'\n",
    "# download the checkpoint from model zoo and put it in `checkpoints/`\n",
    "checkpoint_file = './tsn_r50_8xb32-1x1x8-100e_kinetics400-rgb_20220818-2692d16c.pth'\n"
   ]
  },
  {
   "cell_type": "code",
   "execution_count": 17,
   "metadata": {
    "collapsed": false,
    "pycharm": {
     "name": "#%%\n"
    }
   },
   "outputs": [
    {
     "name": "stdout",
     "output_type": "stream",
     "text": [
      "Loads checkpoint by local backend from path: ./tsn_r50_8xb32-1x1x8-100e_kinetics400-rgb_20220818-2692d16c.pth\n"
     ]
    },
    {
     "ename": "FileNotFoundError",
     "evalue": "./tsn_r50_8xb32-1x1x8-100e_kinetics400-rgb_20220818-2692d16c.pth can not be found.",
     "output_type": "error",
     "traceback": [
      "\u001b[0;31m---------------------------------------------------------------------------\u001b[0m",
      "\u001b[0;31mFileNotFoundError\u001b[0m                         Traceback (most recent call last)",
      "\u001b[1;32m/Users/fukunagaatsushi/src/github.com/open-mmlab/mmaction2/demo/demo.ipynb セル 4\u001b[0m line \u001b[0;36m2\n\u001b[1;32m      <a href='vscode-notebook-cell:/Users/fukunagaatsushi/src/github.com/open-mmlab/mmaction2/demo/demo.ipynb#W2sZmlsZQ%3D%3D?line=0'>1</a>\u001b[0m \u001b[39m# build the model from a config file and a checkpoint file\u001b[39;00m\n\u001b[0;32m----> <a href='vscode-notebook-cell:/Users/fukunagaatsushi/src/github.com/open-mmlab/mmaction2/demo/demo.ipynb#W2sZmlsZQ%3D%3D?line=1'>2</a>\u001b[0m model \u001b[39m=\u001b[39m init_recognizer(config_file, checkpoint_file, device\u001b[39m=\u001b[39;49m\u001b[39m'\u001b[39;49m\u001b[39mcpu\u001b[39;49m\u001b[39m'\u001b[39;49m)\n",
      "File \u001b[0;32m~/src/github.com/open-mmlab/mmaction2/mmaction/apis/inference.py:50\u001b[0m, in \u001b[0;36minit_recognizer\u001b[0;34m(config, checkpoint, device)\u001b[0m\n\u001b[1;32m     47\u001b[0m model \u001b[39m=\u001b[39m MODELS\u001b[39m.\u001b[39mbuild(config\u001b[39m.\u001b[39mmodel)\n\u001b[1;32m     49\u001b[0m \u001b[39mif\u001b[39;00m checkpoint \u001b[39mis\u001b[39;00m \u001b[39mnot\u001b[39;00m \u001b[39mNone\u001b[39;00m:\n\u001b[0;32m---> 50\u001b[0m     load_checkpoint(model, checkpoint, map_location\u001b[39m=\u001b[39;49m\u001b[39m'\u001b[39;49m\u001b[39mcpu\u001b[39;49m\u001b[39m'\u001b[39;49m)\n\u001b[1;32m     51\u001b[0m model\u001b[39m.\u001b[39mcfg \u001b[39m=\u001b[39m config\n\u001b[1;32m     52\u001b[0m model\u001b[39m.\u001b[39mto(device)\n",
      "File \u001b[0;32m~/miniforge3/envs/study/lib/python3.8/site-packages/mmengine/runner/checkpoint.py:636\u001b[0m, in \u001b[0;36mload_checkpoint\u001b[0;34m(model, filename, map_location, strict, logger, revise_keys)\u001b[0m\n\u001b[1;32m    611\u001b[0m \u001b[39mdef\u001b[39;00m \u001b[39mload_checkpoint\u001b[39m(model,\n\u001b[1;32m    612\u001b[0m                     filename,\n\u001b[1;32m    613\u001b[0m                     map_location\u001b[39m=\u001b[39m\u001b[39mNone\u001b[39;00m,\n\u001b[1;32m    614\u001b[0m                     strict\u001b[39m=\u001b[39m\u001b[39mFalse\u001b[39;00m,\n\u001b[1;32m    615\u001b[0m                     logger\u001b[39m=\u001b[39m\u001b[39mNone\u001b[39;00m,\n\u001b[1;32m    616\u001b[0m                     revise_keys\u001b[39m=\u001b[39m[(\u001b[39mr\u001b[39m\u001b[39m'\u001b[39m\u001b[39m^module\u001b[39m\u001b[39m\\\u001b[39m\u001b[39m.\u001b[39m\u001b[39m'\u001b[39m, \u001b[39m'\u001b[39m\u001b[39m'\u001b[39m)]):\n\u001b[1;32m    617\u001b[0m \u001b[39m    \u001b[39m\u001b[39m\"\"\"Load checkpoint from a file or URI.\u001b[39;00m\n\u001b[1;32m    618\u001b[0m \n\u001b[1;32m    619\u001b[0m \u001b[39m    Args:\u001b[39;00m\n\u001b[0;32m   (...)\u001b[0m\n\u001b[1;32m    634\u001b[0m \u001b[39m        dict or OrderedDict: The loaded checkpoint.\u001b[39;00m\n\u001b[1;32m    635\u001b[0m \u001b[39m    \"\"\"\u001b[39;00m\n\u001b[0;32m--> 636\u001b[0m     checkpoint \u001b[39m=\u001b[39m _load_checkpoint(filename, map_location, logger)\n\u001b[1;32m    637\u001b[0m     \u001b[39m# OrderedDict is a subclass of dict\u001b[39;00m\n\u001b[1;32m    638\u001b[0m     \u001b[39mif\u001b[39;00m \u001b[39mnot\u001b[39;00m \u001b[39misinstance\u001b[39m(checkpoint, \u001b[39mdict\u001b[39m):\n",
      "File \u001b[0;32m~/miniforge3/envs/study/lib/python3.8/site-packages/mmengine/runner/checkpoint.py:548\u001b[0m, in \u001b[0;36m_load_checkpoint\u001b[0;34m(filename, map_location, logger)\u001b[0m\n\u001b[1;32m    531\u001b[0m \u001b[39mdef\u001b[39;00m \u001b[39m_load_checkpoint\u001b[39m(filename, map_location\u001b[39m=\u001b[39m\u001b[39mNone\u001b[39;00m, logger\u001b[39m=\u001b[39m\u001b[39mNone\u001b[39;00m):\n\u001b[1;32m    532\u001b[0m \u001b[39m    \u001b[39m\u001b[39m\"\"\"Load checkpoint from somewhere (modelzoo, file, url).\u001b[39;00m\n\u001b[1;32m    533\u001b[0m \n\u001b[1;32m    534\u001b[0m \u001b[39m    Args:\u001b[39;00m\n\u001b[0;32m   (...)\u001b[0m\n\u001b[1;32m    546\u001b[0m \u001b[39m        information, which depends on the checkpoint.\u001b[39;00m\n\u001b[1;32m    547\u001b[0m \u001b[39m    \"\"\"\u001b[39;00m\n\u001b[0;32m--> 548\u001b[0m     \u001b[39mreturn\u001b[39;00m CheckpointLoader\u001b[39m.\u001b[39;49mload_checkpoint(filename, map_location, logger)\n",
      "File \u001b[0;32m~/miniforge3/envs/study/lib/python3.8/site-packages/mmengine/runner/checkpoint.py:330\u001b[0m, in \u001b[0;36mCheckpointLoader.load_checkpoint\u001b[0;34m(cls, filename, map_location, logger)\u001b[0m\n\u001b[1;32m    325\u001b[0m class_name \u001b[39m=\u001b[39m checkpoint_loader\u001b[39m.\u001b[39m\u001b[39m__name__\u001b[39m\n\u001b[1;32m    326\u001b[0m print_log(\n\u001b[1;32m    327\u001b[0m     \u001b[39mf\u001b[39m\u001b[39m'\u001b[39m\u001b[39mLoads checkpoint by \u001b[39m\u001b[39m{\u001b[39;00mclass_name[\u001b[39m10\u001b[39m:]\u001b[39m}\u001b[39;00m\u001b[39m backend from path: \u001b[39m\u001b[39m'\u001b[39m\n\u001b[1;32m    328\u001b[0m     \u001b[39mf\u001b[39m\u001b[39m'\u001b[39m\u001b[39m{\u001b[39;00mfilename\u001b[39m}\u001b[39;00m\u001b[39m'\u001b[39m,\n\u001b[1;32m    329\u001b[0m     logger\u001b[39m=\u001b[39mlogger)\n\u001b[0;32m--> 330\u001b[0m \u001b[39mreturn\u001b[39;00m checkpoint_loader(filename, map_location)\n",
      "File \u001b[0;32m~/miniforge3/envs/study/lib/python3.8/site-packages/mmengine/runner/checkpoint.py:346\u001b[0m, in \u001b[0;36mload_from_local\u001b[0;34m(filename, map_location)\u001b[0m\n\u001b[1;32m    344\u001b[0m filename \u001b[39m=\u001b[39m osp\u001b[39m.\u001b[39mexpanduser(filename)\n\u001b[1;32m    345\u001b[0m \u001b[39mif\u001b[39;00m \u001b[39mnot\u001b[39;00m osp\u001b[39m.\u001b[39misfile(filename):\n\u001b[0;32m--> 346\u001b[0m     \u001b[39mraise\u001b[39;00m \u001b[39mFileNotFoundError\u001b[39;00m(\u001b[39mf\u001b[39m\u001b[39m'\u001b[39m\u001b[39m{\u001b[39;00mfilename\u001b[39m}\u001b[39;00m\u001b[39m can not be found.\u001b[39m\u001b[39m'\u001b[39m)\n\u001b[1;32m    347\u001b[0m checkpoint \u001b[39m=\u001b[39m torch\u001b[39m.\u001b[39mload(filename, map_location\u001b[39m=\u001b[39mmap_location)\n\u001b[1;32m    348\u001b[0m \u001b[39mreturn\u001b[39;00m checkpoint\n",
      "\u001b[0;31mFileNotFoundError\u001b[0m: ./tsn_r50_8xb32-1x1x8-100e_kinetics400-rgb_20220818-2692d16c.pth can not be found."
     ]
    }
   ],
   "source": [
    "# build the model from a config file and a checkpoint file\n",
    "model = init_recognizer(config_file, checkpoint_file, device='cpu')\n"
   ]
  },
  {
   "cell_type": "code",
   "execution_count": null,
   "metadata": {
    "collapsed": false,
    "pycharm": {
     "name": "#%%\n"
    }
   },
   "outputs": [],
   "source": [
    "# test a single video and show the result:\n",
    "video = 'demo.mp4'\n",
    "label = '../tools/data/kinetics/label_map_k400.txt'\n",
    "results = inference_recognizer(model, video)\n",
    "\n",
    "pred_scores = results.pred_score.tolist()\n",
    "score_tuples = tuple(zip(range(len(pred_scores)), pred_scores))\n",
    "score_sorted = sorted(score_tuples, key=itemgetter(1), reverse=True)\n",
    "top5_label = score_sorted[:5]\n",
    "\n",
    "labels = open(label).readlines()\n",
    "labels = [x.strip() for x in labels]\n",
    "results = [(labels[k[0]], k[1]) for k in top5_label]\n"
   ]
  },
  {
   "cell_type": "code",
   "execution_count": null,
   "metadata": {
    "collapsed": false,
    "pycharm": {
     "name": "#%%\n"
    }
   },
   "outputs": [
    {
     "name": "stdout",
     "output_type": "stream",
     "text": [
      "arm wrestling:  1.0\n",
      "rock scissors paper:  1.698846019067312e-15\n",
      "massaging feet:  5.157996544393221e-16\n",
      "stretching leg:  1.018867278715779e-16\n",
      "bench pressing:  7.110452486439706e-17\n"
     ]
    }
   ],
   "source": [
    "# show the results\n",
    "for result in results:\n",
    "    print(f'{result[0]}: ', result[1])\n"
   ]
  }
 ],
 "metadata": {
  "kernelspec": {
   "display_name": "mmact_dev",
   "language": "python",
   "name": "python3"
  },
  "language_info": {
   "codemirror_mode": {
    "name": "ipython",
    "version": 3
   },
   "file_extension": ".py",
   "mimetype": "text/x-python",
   "name": "python",
   "nbconvert_exporter": "python",
   "pygments_lexer": "ipython3",
   "version": "3.8.12"
  },
  "vscode": {
   "interpreter": {
    "hash": "189c342a4747645665e89db23000ac4d4edb7a87c4cd0b2f881610f468fb778d"
   }
  }
 },
 "nbformat": 4,
 "nbformat_minor": 0
}
