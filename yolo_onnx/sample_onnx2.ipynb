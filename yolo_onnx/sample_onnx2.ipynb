{
 "cells": [
  {
   "cell_type": "code",
   "execution_count": 1,
   "metadata": {},
   "outputs": [
    {
     "name": "stderr",
     "output_type": "stream",
     "text": [
      "[ WARN:0@0.135] global /private/var/folders/k1/30mswbxs7r1g6zwn8y4fyt500000gp/T/abs_11nitadzeg/croot/opencv-suite_1691620374638/work/modules/videoio/src/cap_gstreamer.cpp (862) isPipelinePlaying OpenCV | GStreamer warning: GStreamer: pipeline have not been created\n",
      "/Users/fukunagaatsushi/miniforge3/envs/study/lib/python3.8/site-packages/onnxruntime/capi/onnxruntime_inference_collection.py:65: UserWarning: Specified provider 'CUDAExecutionProvider' is not in available provider names.Available providers: 'CPUExecutionProvider'\n",
      "  warnings.warn(\n"
     ]
    },
    {
     "ename": "KeyboardInterrupt",
     "evalue": "",
     "output_type": "error",
     "traceback": [
      "\u001b[0;31m---------------------------------------------------------------------------\u001b[0m",
      "\u001b[0;31mKeyboardInterrupt\u001b[0m                         Traceback (most recent call last)",
      "\u001b[1;32m/Users/fukunagaatsushi/src/github.com/a2c6201/Illegal-Dumping-Detection/yolo_onnx/sample_onnx2.ipynb セル 1\u001b[0m line \u001b[0;36m3\n\u001b[1;32m     <a href='vscode-notebook-cell:/Users/fukunagaatsushi/src/github.com/a2c6201/Illegal-Dumping-Detection/yolo_onnx/sample_onnx2.ipynb#W0sZmlsZQ%3D%3D?line=33'>34</a>\u001b[0m debug_image \u001b[39m=\u001b[39m copy\u001b[39m.\u001b[39mdeepcopy(frame)\n\u001b[1;32m     <a href='vscode-notebook-cell:/Users/fukunagaatsushi/src/github.com/a2c6201/Illegal-Dumping-Detection/yolo_onnx/sample_onnx2.ipynb#W0sZmlsZQ%3D%3D?line=35'>36</a>\u001b[0m \u001b[39m# 推論実施\u001b[39;00m\n\u001b[0;32m---> <a href='vscode-notebook-cell:/Users/fukunagaatsushi/src/github.com/a2c6201/Illegal-Dumping-Detection/yolo_onnx/sample_onnx2.ipynb#W0sZmlsZQ%3D%3D?line=36'>37</a>\u001b[0m bboxes, scores, class_ids \u001b[39m=\u001b[39m yolox\u001b[39m.\u001b[39;49minference(frame)\n\u001b[1;32m     <a href='vscode-notebook-cell:/Users/fukunagaatsushi/src/github.com/a2c6201/Illegal-Dumping-Detection/yolo_onnx/sample_onnx2.ipynb#W0sZmlsZQ%3D%3D?line=38'>39</a>\u001b[0m elapsed_time \u001b[39m=\u001b[39m time\u001b[39m.\u001b[39mtime() \u001b[39m-\u001b[39m start_time\n\u001b[1;32m     <a href='vscode-notebook-cell:/Users/fukunagaatsushi/src/github.com/a2c6201/Illegal-Dumping-Detection/yolo_onnx/sample_onnx2.ipynb#W0sZmlsZQ%3D%3D?line=40'>41</a>\u001b[0m \u001b[39m# デバッグ描画\u001b[39;00m\n",
      "File \u001b[0;32m~/src/github.com/a2c6201/Illegal-Dumping-Detection/yolo_onnx/yolox_onnx.py:48\u001b[0m, in \u001b[0;36mYoloxONNX.inference\u001b[0;34m(self, image)\u001b[0m\n\u001b[1;32m     45\u001b[0m image, ratio \u001b[39m=\u001b[39m \u001b[39mself\u001b[39m\u001b[39m.\u001b[39m_preprocess(temp_image, \u001b[39mself\u001b[39m\u001b[39m.\u001b[39minput_shape)\n\u001b[1;32m     47\u001b[0m \u001b[39m# 推論実施\u001b[39;00m\n\u001b[0;32m---> 48\u001b[0m results \u001b[39m=\u001b[39m \u001b[39mself\u001b[39;49m\u001b[39m.\u001b[39;49monnx_session\u001b[39m.\u001b[39;49mrun(\n\u001b[1;32m     49\u001b[0m     \u001b[39mNone\u001b[39;49;00m,\n\u001b[1;32m     50\u001b[0m     {\u001b[39mself\u001b[39;49m\u001b[39m.\u001b[39;49minput_name: image[\u001b[39mNone\u001b[39;49;00m, :, :, :]},\n\u001b[1;32m     51\u001b[0m )\n\u001b[1;32m     53\u001b[0m \u001b[39m# 後処理\u001b[39;00m\n\u001b[1;32m     54\u001b[0m bboxes, scores, class_ids \u001b[39m=\u001b[39m \u001b[39mself\u001b[39m\u001b[39m.\u001b[39m_postprocess(\n\u001b[1;32m     55\u001b[0m     results[\u001b[39m0\u001b[39m],\n\u001b[1;32m     56\u001b[0m     \u001b[39mself\u001b[39m\u001b[39m.\u001b[39minput_shape,\n\u001b[0;32m   (...)\u001b[0m\n\u001b[1;32m     62\u001b[0m     p6\u001b[39m=\u001b[39m\u001b[39mself\u001b[39m\u001b[39m.\u001b[39mwith_p6,\n\u001b[1;32m     63\u001b[0m )\n",
      "File \u001b[0;32m~/miniforge3/envs/study/lib/python3.8/site-packages/onnxruntime/capi/onnxruntime_inference_collection.py:217\u001b[0m, in \u001b[0;36mSession.run\u001b[0;34m(self, output_names, input_feed, run_options)\u001b[0m\n\u001b[1;32m    215\u001b[0m     output_names \u001b[39m=\u001b[39m [output\u001b[39m.\u001b[39mname \u001b[39mfor\u001b[39;00m output \u001b[39min\u001b[39;00m \u001b[39mself\u001b[39m\u001b[39m.\u001b[39m_outputs_meta]\n\u001b[1;32m    216\u001b[0m \u001b[39mtry\u001b[39;00m:\n\u001b[0;32m--> 217\u001b[0m     \u001b[39mreturn\u001b[39;00m \u001b[39mself\u001b[39;49m\u001b[39m.\u001b[39;49m_sess\u001b[39m.\u001b[39;49mrun(output_names, input_feed, run_options)\n\u001b[1;32m    218\u001b[0m \u001b[39mexcept\u001b[39;00m C\u001b[39m.\u001b[39mEPFail \u001b[39mas\u001b[39;00m err:\n\u001b[1;32m    219\u001b[0m     \u001b[39mif\u001b[39;00m \u001b[39mself\u001b[39m\u001b[39m.\u001b[39m_enable_fallback:\n",
      "\u001b[0;31mKeyboardInterrupt\u001b[0m: "
     ]
    },
    {
     "ename": "",
     "evalue": "",
     "output_type": "error",
     "traceback": [
      "\u001b[1;31m現在のセルまたは前のセルでコードを実行中に、カーネルがクラッシュしました。エラーの原因を特定するには、セル内のコードを確認してください。詳細については、<a href='https://aka.ms/vscodeJupyterKernelCrash'>こちら</a> をクリックしてください。さらなる詳細については、Jupyter [log] (command:jupyter.viewOutput) を参照してください。"
     ]
    }
   ],
   "source": [
    "#!/usr/bin/env python\n",
    "# -*- coding: utf-8 -*-\n",
    "import copy\n",
    "import time\n",
    "\n",
    "import cv2\n",
    "\n",
    "from yolox_onnx import YoloxONNX\n",
    "\n",
    "# 検出閾値\n",
    "score_th = 0.3\n",
    "\n",
    "# カメラ準備\n",
    "cap = cv2.VideoCapture(0)\n",
    "cap.set(cv2.CAP_PROP_FRAME_WIDTH, 640)\n",
    "cap.set(cv2.CAP_PROP_FRAME_HEIGHT, 360)\n",
    "\n",
    "# モデルロード\n",
    "yolox = YoloxONNX(\n",
    "    model_path='yolox_nano.onnx',\n",
    "    input_shape=(416, 416),\n",
    "    class_score_th=0.3,\n",
    "    nms_th=0.45,\n",
    "    nms_score_th=0.1,\n",
    ")\n",
    "\n",
    "while True:\n",
    "    start_time = time.time()\n",
    "\n",
    "    # カメラキャプチャ\n",
    "    ret, frame = cap.read()\n",
    "    if not ret:\n",
    "        break\n",
    "    debug_image = copy.deepcopy(frame)\n",
    "\n",
    "    # 推論実施\n",
    "    bboxes, scores, class_ids = yolox.inference(frame)\n",
    "\n",
    "    elapsed_time = time.time() - start_time\n",
    "\n",
    "    # デバッグ描画\n",
    "    for bbox, score, class_id in zip(bboxes, scores, class_ids):\n",
    "        x1, y1, x2, y2 = int(bbox[0]), int(bbox[1]), int(bbox[2]), int(bbox[3])\n",
    "\n",
    "        if score_th > score:\n",
    "            continue\n",
    "\n",
    "        # バウンディングボックス\n",
    "        cv2.rectangle(debug_image, (x1, y1), (x2, y2), (0, 255, 0))\n",
    "\n",
    "        # クラスID、スコア\n",
    "        text = 'ID:' + str(int(class_id)) + '('+ '{:.2f}'.format(score) + ')'\n",
    "        cv2.putText(debug_image, text, (x1, y1 - 5), cv2.FONT_HERSHEY_SIMPLEX, 0.5, (0, 255, 0))\n",
    "\n",
    "    # 推論時間描画\n",
    "    text = 'Elapsed time:' + '%.0f' % (elapsed_time * 1000)\n",
    "    text = text + 'ms'\n",
    "    cv2.putText(debug_image, text, (10, 30), cv2.FONT_HERSHEY_SIMPLEX, 0.7,\n",
    "                (0, 255, 0))\n",
    "\n",
    "    # キー処理(ESC：終了)\n",
    "    key = cv2.waitKey(1)\n",
    "    if key == 27:  # ESC\n",
    "        break\n",
    "\n",
    "    # 画面反映\n",
    "    cv2.imshow('YOLOX ONNX Sample', debug_image)\n",
    "\n",
    "cap.release()\n",
    "cv2.destroyAllWindows()\n"
   ]
  }
 ],
 "metadata": {
  "kernelspec": {
   "display_name": "study",
   "language": "python",
   "name": "python3"
  },
  "language_info": {
   "codemirror_mode": {
    "name": "ipython",
    "version": 3
   },
   "file_extension": ".py",
   "mimetype": "text/x-python",
   "name": "python",
   "nbconvert_exporter": "python",
   "pygments_lexer": "ipython3",
   "version": "3.8.18"
  },
  "orig_nbformat": 4
 },
 "nbformat": 4,
 "nbformat_minor": 2
}
